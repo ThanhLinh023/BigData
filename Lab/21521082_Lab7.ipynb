{
 "cells": [
  {
   "cell_type": "markdown",
   "metadata": {},
   "source": [
    "# Vuong Thanh Linh - 21521082"
   ]
  },
  {
   "cell_type": "markdown",
   "metadata": {
    "id": "RtJG2JVUfPJJ"
   },
   "source": [
    "### Lab 7"
   ]
  },
  {
   "cell_type": "code",
   "execution_count": null,
   "metadata": {
    "colab": {
     "base_uri": "https://localhost:8080/"
    },
    "id": "5kR_3i7aZFX7",
    "outputId": "ffe1e73b-7db4-41a5-84a2-2fc74254c9d2"
   },
   "outputs": [
    {
     "name": "stderr",
     "output_type": "stream",
     "text": [
      "/usr/local/lib/python3.10/dist-packages/pyspark/sql/dataframe.py:168: UserWarning: DataFrame.sql_ctx is an internal property, and will be removed in future releases. Use DataFrame.sparkSession instead.\n",
      "  warnings.warn(\n"
     ]
    }
   ],
   "source": [
    "# Create a Vertex DataFrame with unique ID column \"id\"\n",
    "v = spark.createDataFrame([\n",
    "  (\"a\", \"Alice\", 34),\n",
    "  (\"b\", \"Bob\", 36),\n",
    "  (\"c\", \"Charlie\", 30)\n",
    "], [\"id\", \"name\", \"age\"])\n",
    "# Create an Edge DataFrame with \"src\" and \"dst\" columns\n",
    "e = spark.createDataFrame([\n",
    "  (\"a\", \"b\", \"friend\"),\n",
    "  (\"b\", \"c\", \"follow\"),\n",
    "  (\"c\", \"b\", \"follow\")\n",
    "], [\"src\", \"dst\", \"relationship\"])\n",
    "# Create a GraphFrame\n",
    "from graphframes import *\n",
    "g = GraphFrame(v, e)"
   ]
  },
  {
   "cell_type": "code",
   "execution_count": null,
   "metadata": {
    "colab": {
     "base_uri": "https://localhost:8080/"
    },
    "id": "vdrfP3_XH2r9",
    "outputId": "736f0e9f-1557-4481-a700-ebeee4613806"
   },
   "outputs": [
    {
     "name": "stderr",
     "output_type": "stream",
     "text": [
      "/usr/local/lib/python3.10/dist-packages/pyspark/sql/dataframe.py:147: UserWarning: DataFrame constructor is internal. Do not directly use it.\n",
      "  warnings.warn(\"DataFrame constructor is internal. Do not directly use it.\")\n"
     ]
    },
    {
     "name": "stdout",
     "output_type": "stream",
     "text": [
      "+---+--------+\n",
      "| id|inDegree|\n",
      "+---+--------+\n",
      "|  b|       2|\n",
      "|  c|       1|\n",
      "+---+--------+\n",
      "\n"
     ]
    }
   ],
   "source": [
    "# Query: Get in-degree of each vertex\n",
    "g.inDegrees.show()"
   ]
  },
  {
   "cell_type": "code",
   "execution_count": null,
   "metadata": {
    "colab": {
     "base_uri": "https://localhost:8080/"
    },
    "id": "XcyNdYI3d4ax",
    "outputId": "2fa19e1a-509f-46b0-9aba-5e07f6426099"
   },
   "outputs": [
    {
     "data": {
      "text/plain": [
       "2"
      ]
     },
     "execution_count": 8,
     "metadata": {},
     "output_type": "execute_result"
    }
   ],
   "source": [
    "# Query: Count the number of \"follow\" connections in the graph\n",
    "g.edges.filter(\"relationship = 'follow'\").count()"
   ]
  },
  {
   "cell_type": "code",
   "execution_count": null,
   "metadata": {
    "colab": {
     "base_uri": "https://localhost:8080/"
    },
    "id": "Re1TSzgVeOvj",
    "outputId": "b6b551f3-dac6-40d9-db7b-f56caf849408"
   },
   "outputs": [
    {
     "name": "stderr",
     "output_type": "stream",
     "text": [
      "/usr/local/lib/python3.10/dist-packages/pyspark/sql/dataframe.py:147: UserWarning: DataFrame constructor is internal. Do not directly use it.\n",
      "  warnings.warn(\"DataFrame constructor is internal. Do not directly use it.\")\n",
      "/usr/local/lib/python3.10/dist-packages/pyspark/sql/dataframe.py:168: UserWarning: DataFrame.sql_ctx is an internal property, and will be removed in future releases. Use DataFrame.sparkSession instead.\n",
      "  warnings.warn(\n"
     ]
    },
    {
     "name": "stdout",
     "output_type": "stream",
     "text": [
      "+---+------------------+\n",
      "| id|          pagerank|\n",
      "+---+------------------+\n",
      "|  c|1.8994109890559092|\n",
      "|  b|1.0905890109440908|\n",
      "|  a|              0.01|\n",
      "+---+------------------+\n",
      "\n"
     ]
    }
   ],
   "source": [
    "# Run PageRank algorithm, and show results\n",
    "result = g.pageRank(resetProbability=0.01, maxIter=20)\n",
    "result.vertices.select(\"id\", \"pagerank\").show()"
   ]
  },
  {
   "cell_type": "markdown",
   "metadata": {
    "id": "FYluAQPgfTrF"
   },
   "source": [
    "### Lab 8"
   ]
  },
  {
   "cell_type": "code",
   "execution_count": null,
   "metadata": {
    "id": "e444gudtZGHC"
   },
   "outputs": [],
   "source": [
    "# Create GraphFrame\n",
    "# Vertex DataFrame\n",
    "v = spark.createDataFrame([\n",
    "  (\"a\", \"Alice\", 34),\n",
    "  (\"b\", \"Bob\", 36),\n",
    "  (\"c\", \"Charlie\", 30),\n",
    "  (\"d\", \"David\", 29),\n",
    "  (\"e\", \"Esther\", 32),\n",
    "  (\"f\", \"Fanny\", 36),\n",
    "  (\"g\", \"Gabby\", 60)\n",
    "], [\"id\", \"name\", \"age\"])\n",
    "# Edge DataFrame\n",
    "e = spark.createDataFrame([\n",
    "  (\"a\", \"b\", \"friend\"),\n",
    "  (\"b\", \"c\", \"follow\"),\n",
    "  (\"c\", \"b\", \"follow\"),\n",
    "  (\"f\", \"c\", \"follow\"),\n",
    "  (\"e\", \"f\", \"follow\"),\n",
    "  (\"e\", \"d\", \"friend\"),\n",
    "  (\"d\", \"a\", \"friend\"),\n",
    "  (\"a\", \"e\", \"friend\")\n",
    "], [\"src\", \"dst\", \"relationship\"])\n",
    "# Create a GraphFrame\n",
    "g = GraphFrame(v, e)"
   ]
  },
  {
   "cell_type": "code",
   "execution_count": null,
   "metadata": {
    "colab": {
     "base_uri": "https://localhost:8080/"
    },
    "id": "fDxi7fktZGLp",
    "outputId": "4a969d92-308c-49b9-cb4a-c560febafabc"
   },
   "outputs": [
    {
     "name": "stdout",
     "output_type": "stream",
     "text": [
      "+---+-------+---+\n",
      "| id|   name|age|\n",
      "+---+-------+---+\n",
      "|  a|  Alice| 34|\n",
      "|  b|    Bob| 36|\n",
      "|  c|Charlie| 30|\n",
      "|  d|  David| 29|\n",
      "|  e| Esther| 32|\n",
      "|  f|  Fanny| 36|\n",
      "|  g|  Gabby| 60|\n",
      "+---+-------+---+\n",
      "\n",
      "+---+---+------------+\n",
      "|src|dst|relationship|\n",
      "+---+---+------------+\n",
      "|  a|  b|      friend|\n",
      "|  b|  c|      follow|\n",
      "|  c|  b|      follow|\n",
      "|  f|  c|      follow|\n",
      "|  e|  f|      follow|\n",
      "|  e|  d|      friend|\n",
      "|  d|  a|      friend|\n",
      "|  a|  e|      friend|\n",
      "+---+---+------------+\n",
      "\n"
     ]
    },
    {
     "name": "stderr",
     "output_type": "stream",
     "text": [
      "/usr/local/lib/python3.10/dist-packages/pyspark/sql/dataframe.py:147: UserWarning: DataFrame constructor is internal. Do not directly use it.\n",
      "  warnings.warn(\"DataFrame constructor is internal. Do not directly use it.\")\n"
     ]
    },
    {
     "name": "stdout",
     "output_type": "stream",
     "text": [
      "+--------+\n",
      "|min(age)|\n",
      "+--------+\n",
      "|      29|\n",
      "+--------+\n",
      "\n"
     ]
    }
   ],
   "source": [
    "# Basic query\n",
    "# Display the vertex and edge DataFrames\n",
    "g.vertices.show()\n",
    "# +--+-------+---+\n",
    "# |id|   name|age|\n",
    "# +--+-------+---+\n",
    "# | a|  Alice| 34|\n",
    "# | b|    Bob| 36|\n",
    "# | c|Charlie| 30|\n",
    "# | d|  David| 29|\n",
    "# | e| Esther| 32|\n",
    "# | f|  Fanny| 36|\n",
    "# | g|  Gabby| 60|\n",
    "# +--+-------+---+\n",
    "\n",
    "g.edges.show()\n",
    "# +---+---+------------+\n",
    "# |src|dst|relationship|\n",
    "# +---+---+------------+\n",
    "# |  a|  b|      friend|\n",
    "# |  b|  c|      follow|\n",
    "# |  c|  b|      follow|\n",
    "# |  f|  c|      follow|\n",
    "# |  e|  f|      follow|\n",
    "# |  e|  d|      friend|\n",
    "# |  d|  a|      friend|\n",
    "# |  a|  e|      friend|\n",
    "# +---+---+------------+\n",
    "\n",
    "# Get a DataFrame with columns \"id\" and \"inDegree\" (in-degree)\n",
    "vertexInDegrees = g.inDegrees\n",
    "\n",
    "# Find the youngest user's age in the graph.\n",
    "# This queries the vertex DataFrame.\n",
    "g.vertices.groupBy().min(\"age\").show()\n",
    "\n",
    "# Count the number of \"follows\" in the graph.\n",
    "# This queries the edge DataFrame.\n",
    "numFollows = g.edges.filter(\"relationship = 'follow'\").count()"
   ]
  },
  {
   "cell_type": "code",
   "execution_count": null,
   "metadata": {
    "colab": {
     "base_uri": "https://localhost:8080/"
    },
    "id": "QZiPFcg-ZP2j",
    "outputId": "8588f4d8-5f77-4cbf-e339-245bed6684e2"
   },
   "outputs": [
    {
     "name": "stdout",
     "output_type": "stream",
     "text": [
      "+----------------+--------------+----------------+--------------+\n",
      "|               a|             e|               b|            e2|\n",
      "+----------------+--------------+----------------+--------------+\n",
      "|{c, Charlie, 30}|{c, b, follow}|    {b, Bob, 36}|{b, c, follow}|\n",
      "|    {b, Bob, 36}|{b, c, follow}|{c, Charlie, 30}|{c, b, follow}|\n",
      "+----------------+--------------+----------------+--------------+\n",
      "\n",
      "+----------------+--------------+------------+--------------+\n",
      "|               a|             e|           b|            e2|\n",
      "+----------------+--------------+------------+--------------+\n",
      "|{c, Charlie, 30}|{c, b, follow}|{b, Bob, 36}|{b, c, follow}|\n",
      "+----------------+--------------+------------+--------------+\n",
      "\n"
     ]
    }
   ],
   "source": [
    "# Motif finding\n",
    "# Search for pairs of vertices with edges in both directions between them.\n",
    "motifs = g.find(\"(a)-[e]->(b); (b)-[e2]->(a)\")\n",
    "motifs.show()\n",
    "\n",
    "# More complex queries can be expressed by applying filters.\n",
    "motifs.filter(\"b.age > 30\").show()"
   ]
  },
  {
   "cell_type": "code",
   "execution_count": 18,
   "metadata": {
    "colab": {
     "base_uri": "https://localhost:8080/"
    },
    "id": "oKiLkcAOZP5j",
    "outputId": "2c02fd20-c1ff-43ef-a7fa-6eecd6ff87e5"
   },
   "outputs": [
    {
     "name": "stdout",
     "output_type": "stream",
     "text": [
      "+---------------+--------------+---------------+--------------+---------------+--------------+----------------+\n",
      "|              a|            ab|              b|            bc|              c|            cd|               d|\n",
      "+---------------+--------------+---------------+--------------+---------------+--------------+----------------+\n",
      "| {a, Alice, 34}|{a, e, friend}|{e, Esther, 32}|{e, d, friend}| {d, David, 29}|{d, a, friend}|  {a, Alice, 34}|\n",
      "|{e, Esther, 32}|{e, d, friend}| {d, David, 29}|{d, a, friend}| {a, Alice, 34}|{a, b, friend}|    {b, Bob, 36}|\n",
      "| {d, David, 29}|{d, a, friend}| {a, Alice, 34}|{a, b, friend}|   {b, Bob, 36}|{b, c, follow}|{c, Charlie, 30}|\n",
      "| {d, David, 29}|{d, a, friend}| {a, Alice, 34}|{a, e, friend}|{e, Esther, 32}|{e, d, friend}|  {d, David, 29}|\n",
      "|{e, Esther, 32}|{e, d, friend}| {d, David, 29}|{d, a, friend}| {a, Alice, 34}|{a, e, friend}| {e, Esther, 32}|\n",
      "| {d, David, 29}|{d, a, friend}| {a, Alice, 34}|{a, e, friend}|{e, Esther, 32}|{e, f, follow}|  {f, Fanny, 36}|\n",
      "+---------------+--------------+---------------+--------------+---------------+--------------+----------------+\n",
      "\n"
     ]
    }
   ],
   "source": [
    "from pyspark.sql.functions import col, lit, when\n",
    "from pyspark.sql.types import IntegerType\n",
    "from functools import reduce\n",
    "\n",
    "chain4 = g.find(\"(a)-[ab]->(b); (b)-[bc]->(c); (c)-[cd]->(d)\")\n",
    "\n",
    "# Query on sequence, with state (cnt)\n",
    "#  (a) Define method for updating state given the next element of the motif.\n",
    "sumFriends =\\\n",
    "  lambda cnt,relationship: when(relationship == \"friend\", cnt+1).otherwise(cnt)\n",
    "#  (b) Use sequence operation to apply method to sequence of elements in motif.\n",
    "#      In this case, the elements are the 3 edges.\n",
    "condition =\\\n",
    "  reduce(lambda cnt,e: sumFriends(cnt, col(e).relationship), [\"ab\", \"bc\", \"cd\"], lit(0))\n",
    "#  (c) Apply filter to DataFrame.\n",
    "chainWith2Friends2 = chain4.where(condition >= 2)\n",
    "chainWith2Friends2.show()"
   ]
  },
  {
   "cell_type": "code",
   "execution_count": null,
   "metadata": {
    "colab": {
     "base_uri": "https://localhost:8080/"
    },
    "id": "XGMsgwS6ZP8c",
    "outputId": "9c820978-f50b-4209-f1c6-fd21dfdf8b24"
   },
   "outputs": [
    {
     "name": "stderr",
     "output_type": "stream",
     "text": [
      "/usr/local/lib/python3.10/dist-packages/pyspark/sql/dataframe.py:168: UserWarning: DataFrame.sql_ctx is an internal property, and will be removed in future releases. Use DataFrame.sparkSession instead.\n",
      "  warnings.warn(\n"
     ]
    }
   ],
   "source": [
    "# Subgraphs\n",
    "# Select subgraph of users older than 30, and relationships of type \"friend\".\n",
    "# Drop isolated vertices (users) which are not contained in any edges (relationships).\n",
    "g1 = g.filterVertices(\"age > 30\").filterEdges(\"relationship = 'friend'\").dropIsolatedVertices()"
   ]
  },
  {
   "cell_type": "code",
   "execution_count": 21,
   "metadata": {
    "id": "tE3iAOmeZP-3"
   },
   "outputs": [],
   "source": [
    "# Select subgraph based on edges \"e\" of type \"follow\"\n",
    "# pointing from a younger user \"a\" to an older user \"b\".\n",
    "paths = g.find(\"(a)-[e]->(b)\")\\\n",
    "  .filter(\"e.relationship = 'follow'\")\\\n",
    "  .filter(\"a.age < b.age\")\n",
    "# \"paths\" contains vertex info. Extract the edges.\n",
    "e2 = paths.select(\"e.src\", \"e.dst\", \"e.relationship\")\n",
    "# In Spark 1.5+, the user may simplify this call:\n",
    "#  val e2 = paths.select(\"e.*\")\n",
    "\n",
    "# Construct the subgraph\n",
    "g2 = GraphFrame(g.vertices, e2)"
   ]
  },
  {
   "cell_type": "code",
   "execution_count": null,
   "metadata": {
    "colab": {
     "base_uri": "https://localhost:8080/"
    },
    "id": "xgL5dYgiZQBO",
    "outputId": "8733072e-7033-41b9-faff-c6ae4bd272c2"
   },
   "outputs": [
    {
     "name": "stdout",
     "output_type": "stream",
     "text": [
      "+---------------+--------------+--------------+\n",
      "|           from|            e0|            to|\n",
      "+---------------+--------------+--------------+\n",
      "|{e, Esther, 32}|{e, d, friend}|{d, David, 29}|\n",
      "+---------------+--------------+--------------+\n",
      "\n"
     ]
    },
    {
     "data": {
      "text/plain": [
       "DataFrame[from: struct<id:string,name:string,age:bigint>, e0: struct<src:string,dst:string,relationship:string>, v1: struct<id:string,name:string,age:bigint>, e1: struct<src:string,dst:string,relationship:string>, to: struct<id:string,name:string,age:bigint>]"
      ]
     },
     "execution_count": 22,
     "metadata": {},
     "output_type": "execute_result"
    }
   ],
   "source": [
    "# Graph algorithms - BFS\n",
    "# Search from \"Esther\" for users of age < 32.\n",
    "paths = g.bfs(\"name = 'Esther'\", \"age < 32\")\n",
    "paths.show()\n",
    "\n",
    "# Specify edge filters or max path lengths.\n",
    "g.bfs(\"name = 'Esther'\", \"age < 32\",\\\n",
    "  edgeFilter=\"relationship != 'friend'\", maxPathLength=3)"
   ]
  },
  {
   "cell_type": "code",
   "execution_count": null,
   "metadata": {
    "colab": {
     "base_uri": "https://localhost:8080/"
    },
    "id": "3iHjcfQ6ZaVU",
    "outputId": "55cf1159-146f-42dc-ff44-e655a65d8ce1"
   },
   "outputs": [
    {
     "name": "stdout",
     "output_type": "stream",
     "text": [
      "+---+------------+\n",
      "| id|   component|\n",
      "+---+------------+\n",
      "|  g|146028888064|\n",
      "|  a|412316860416|\n",
      "|  d|412316860416|\n",
      "|  b|412316860416|\n",
      "|  e|412316860416|\n",
      "|  c|412316860416|\n",
      "|  f|412316860416|\n",
      "+---+------------+\n",
      "\n"
     ]
    }
   ],
   "source": [
    "# Graph algorithms - Connected components\n",
    "spark.sparkContext.setCheckpointDir(\"./checkpoint\")\n",
    "\n",
    "result = g.connectedComponents()\n",
    "result.select(\"id\", \"component\").orderBy(\"component\").show()"
   ]
  },
  {
   "cell_type": "code",
   "execution_count": null,
   "metadata": {
    "colab": {
     "base_uri": "https://localhost:8080/"
    },
    "id": "l3TMr5riZaXt",
    "outputId": "297380e2-35ae-4926-ee67-65431da88d9d"
   },
   "outputs": [
    {
     "name": "stdout",
     "output_type": "stream",
     "text": [
      "+---+-------------+\n",
      "| id|    component|\n",
      "+---+-------------+\n",
      "|  g| 146028888064|\n",
      "|  f| 412316860416|\n",
      "|  e| 670014898176|\n",
      "|  d| 670014898176|\n",
      "|  a| 670014898176|\n",
      "|  c|1047972020224|\n",
      "|  b|1047972020224|\n",
      "+---+-------------+\n",
      "\n"
     ]
    }
   ],
   "source": [
    "# Graph algorithms - Strongly connected components\n",
    "result = g.stronglyConnectedComponents(maxIter=10)\n",
    "result.select(\"id\", \"component\").orderBy(\"component\").show()"
   ]
  },
  {
   "cell_type": "code",
   "execution_count": null,
   "metadata": {
    "colab": {
     "base_uri": "https://localhost:8080/"
    },
    "id": "l1eSxJa9ZaZ4",
    "outputId": "a0cd168d-3620-4c1d-d6b2-0733b2c6a29c"
   },
   "outputs": [
    {
     "name": "stdout",
     "output_type": "stream",
     "text": [
      "+---+-------------+\n",
      "| id|        label|\n",
      "+---+-------------+\n",
      "|  g| 146028888064|\n",
      "|  f|1047972020224|\n",
      "|  e|1460288880640|\n",
      "|  d|1460288880640|\n",
      "|  c|1382979469312|\n",
      "|  b|1047972020224|\n",
      "|  a|1382979469312|\n",
      "+---+-------------+\n",
      "\n"
     ]
    }
   ],
   "source": [
    "# Graph algorithms - Label Propagation Algorithm\n",
    "result = g.labelPropagation(maxIter=5)\n",
    "result.select(\"id\", \"label\").show()"
   ]
  },
  {
   "cell_type": "code",
   "execution_count": null,
   "metadata": {
    "colab": {
     "base_uri": "https://localhost:8080/"
    },
    "id": "INwSQFdHZacF",
    "outputId": "1adb4e07-0b3f-4b35-e962-eb770e634c6a"
   },
   "outputs": [
    {
     "name": "stdout",
     "output_type": "stream",
     "text": [
      "+---+-------------------+\n",
      "| id|           pagerank|\n",
      "+---+-------------------+\n",
      "|  g| 0.1799821386239711|\n",
      "|  f| 0.3283606792049851|\n",
      "|  e|0.37085233187676075|\n",
      "|  d| 0.3283606792049851|\n",
      "|  c| 2.6878300011606218|\n",
      "|  b|  2.655507832863289|\n",
      "|  a|0.44910633706538744|\n",
      "+---+-------------------+\n",
      "\n",
      "+---+---+------+\n",
      "|src|dst|weight|\n",
      "+---+---+------+\n",
      "|  f|  c|   1.0|\n",
      "|  e|  f|   0.5|\n",
      "|  e|  d|   0.5|\n",
      "|  d|  a|   1.0|\n",
      "|  c|  b|   1.0|\n",
      "|  b|  c|   1.0|\n",
      "|  a|  e|   0.5|\n",
      "|  a|  b|   0.5|\n",
      "+---+---+------+\n",
      "\n"
     ]
    }
   ],
   "source": [
    "# Graph algorithms - PageRank\n",
    "# Run PageRank until convergence to tolerance \"tol\".\n",
    "results = g.pageRank(resetProbability=0.15, tol=0.01)\n",
    "# Display resulting pageranks and final edge weights\n",
    "# Note that the displayed pagerank may be truncated, e.g., missing the E notation.\n",
    "# In Spark 1.5+, you can use show(truncate=False) to avoid truncation.\n",
    "results.vertices.select(\"id\", \"pagerank\").show()\n",
    "results.edges.select(\"src\", \"dst\", \"weight\").show()\n",
    "\n",
    "# Run PageRank for a fixed number of iterations.\n",
    "results2 = g.pageRank(resetProbability=0.15, maxIter=10)\n",
    "\n",
    "# Run PageRank personalized for vertex \"a\"\n",
    "results3 = g.pageRank(resetProbability=0.15, maxIter=10, sourceId=\"a\")\n",
    "\n",
    "# Run PageRank personalized for vertex [\"a\", \"b\", \"c\", \"d\"] in parallel\n",
    "results4 = g.parallelPersonalizedPageRank(resetProbability=0.15, sourceIds=[\"a\", \"b\", \"c\", \"d\"], maxIter=10)"
   ]
  },
  {
   "cell_type": "code",
   "execution_count": null,
   "metadata": {
    "colab": {
     "base_uri": "https://localhost:8080/"
    },
    "id": "g42umvNpZaeI",
    "outputId": "2319461d-c59e-4c78-deb7-195ceb905b17"
   },
   "outputs": [
    {
     "name": "stdout",
     "output_type": "stream",
     "text": [
      "+---+----------------+\n",
      "| id|       distances|\n",
      "+---+----------------+\n",
      "|  g|              {}|\n",
      "|  f|              {}|\n",
      "|  e|{a -> 2, d -> 1}|\n",
      "|  d|{a -> 1, d -> 0}|\n",
      "|  c|              {}|\n",
      "|  b|              {}|\n",
      "|  a|{a -> 0, d -> 2}|\n",
      "+---+----------------+\n",
      "\n"
     ]
    }
   ],
   "source": [
    "# Graph algorithms - Shortest paths\n",
    "results = g.shortestPaths(landmarks=[\"a\", \"d\"])\n",
    "results.select(\"id\", \"distances\").show()"
   ]
  },
  {
   "cell_type": "code",
   "execution_count": null,
   "metadata": {
    "colab": {
     "base_uri": "https://localhost:8080/"
    },
    "id": "dN2mDDh3Zfr3",
    "outputId": "45e175dc-e596-4ae2-93a8-955c9647d571"
   },
   "outputs": [
    {
     "name": "stdout",
     "output_type": "stream",
     "text": [
      "+---+-----+\n",
      "| id|count|\n",
      "+---+-----+\n",
      "|  c|    0|\n",
      "|  b|    0|\n",
      "|  a|    1|\n",
      "|  g|    0|\n",
      "|  f|    0|\n",
      "|  e|    1|\n",
      "|  d|    1|\n",
      "+---+-----+\n",
      "\n"
     ]
    }
   ],
   "source": [
    "# Graph algorithms - Triangle count\n",
    "results = g.triangleCount()\n",
    "results.select(\"id\", \"count\").show()"
   ]
  },
  {
   "cell_type": "code",
   "execution_count": null,
   "metadata": {
    "id": "AuG3x_pQjrvx"
   },
   "outputs": [],
   "source": [
    "# Saving and loading GraphFrames\n",
    "# Save vertices and edges as Parquet to some location.\n",
    "g.vertices.write.parquet(\"./vertices\")\n",
    "g.edges.write.parquet(\"./edges\")\n",
    "\n",
    "# Load the vertices and edges back.\n",
    "sameV = spark.read.parquet(\"./vertices\")\n",
    "sameE = spark.read.parquet(\"./edges\")\n",
    "\n",
    "# Create an identical GraphFrame.\n",
    "sameG = GraphFrame(sameV, sameE)"
   ]
  },
  {
   "cell_type": "code",
   "execution_count": null,
   "metadata": {
    "colab": {
     "base_uri": "https://localhost:8080/"
    },
    "id": "wzFZJoP5kXRu",
    "outputId": "cda79069-bdfb-449b-d115-a09e93adc0f8"
   },
   "outputs": [
    {
     "name": "stdout",
     "output_type": "stream",
     "text": [
      "+---+----------+\n",
      "| id|summedAges|\n",
      "+---+----------+\n",
      "|  f|        62|\n",
      "|  e|        99|\n",
      "|  d|        66|\n",
      "|  c|       108|\n",
      "|  b|        94|\n",
      "|  a|        97|\n",
      "+---+----------+\n",
      "\n"
     ]
    }
   ],
   "source": [
    "# Message passing via AggregateMessages\n",
    "from pyspark.sql.functions import sum as sqlsum\n",
    "from graphframes.lib import AggregateMessages as AM\n",
    "\n",
    "# For each user, sum the ages of the adjacent users.\n",
    "msgToSrc = AM.dst[\"age\"]\n",
    "msgToDst = AM.src[\"age\"]\n",
    "agg = g.aggregateMessages(\n",
    "    sqlsum(AM.msg).alias(\"summedAges\"),\n",
    "    sendToSrc=msgToSrc,\n",
    "    sendToDst=msgToDst)\n",
    "agg.show()"
   ]
  }
 ],
 "metadata": {
  "colab": {
   "provenance": []
  },
  "kernelspec": {
   "display_name": "Python 3",
   "name": "python3"
  },
  "language_info": {
   "name": "python"
  }
 },
 "nbformat": 4,
 "nbformat_minor": 0
}
