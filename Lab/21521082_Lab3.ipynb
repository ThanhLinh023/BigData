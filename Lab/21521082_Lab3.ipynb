{
 "cells": [
  {
   "cell_type": "markdown",
   "id": "40356fe1-6b2f-4231-ac27-5e7d6c7583db",
   "metadata": {},
   "source": [
    "# Vuong Thanh Linh - 21521082"
   ]
  },
  {
   "cell_type": "markdown",
   "id": "069927d7-4e82-4b86-9967-28678492e7a4",
   "metadata": {},
   "source": [
    "## Bai tap 1: Tinh trung binh cong, trung binh nhan cua mot day so thuc"
   ]
  },
  {
   "cell_type": "code",
   "execution_count": 40,
   "id": "a0d67561-edb7-4282-94f4-4f2248a96aec",
   "metadata": {},
   "outputs": [],
   "source": [
    "import random"
   ]
  },
  {
   "cell_type": "code",
   "execution_count": 41,
   "id": "fe08229a-17bb-466b-80d9-707a865775a7",
   "metadata": {},
   "outputs": [
    {
     "data": {
      "text/plain": [
       "[6.0026185097548765,\n",
       " 9.14184563564476,\n",
       " 3.3796433106062085,\n",
       " 9.622485293817927,\n",
       " 6.329696490934548,\n",
       " 1.9847386607362605,\n",
       " 6.3830058878669815,\n",
       " 9.287927411882967,\n",
       " 6.782899935851514,\n",
       " 4.230346461696614,\n",
       " 1.692120766129206,\n",
       " 5.296102817623678,\n",
       " 1.1116881141757495,\n",
       " 3.6862438086559757,\n",
       " 0.15615136321847523,\n",
       " 8.489343826315492,\n",
       " 3.986673034312427,\n",
       " 7.245136002372313,\n",
       " 4.820160339630521,\n",
       " 0.716865910319211,\n",
       " 8.412650353869573,\n",
       " 8.100627487383253,\n",
       " 2.162500219057325,\n",
       " 8.801815073764566,\n",
       " 9.339105169001078,\n",
       " 1.6909424281676833,\n",
       " 2.970868710308433,\n",
       " 9.599518817431514,\n",
       " 2.530267755940534,\n",
       " 0.10309317629384473,\n",
       " 3.3626846442484593,\n",
       " 5.672360475340529,\n",
       " 1.0013144662592,\n",
       " 7.335275447142623,\n",
       " 3.7555958146233137,\n",
       " 0.6365740390678143,\n",
       " 3.6450119369708425,\n",
       " 7.7404665285083505,\n",
       " 9.215510695977095,\n",
       " 7.2925031484532745,\n",
       " 3.6411601391690906,\n",
       " 5.6574731524471105,\n",
       " 1.2891579207027282,\n",
       " 5.895203851814675,\n",
       " 9.206787770734268,\n",
       " 4.911388679153883,\n",
       " 4.632896982469662,\n",
       " 5.396106010939089,\n",
       " 7.739551379594801,\n",
       " 6.63867353293751,\n",
       " 3.697439687191949,\n",
       " 5.521631877535605,\n",
       " 3.9671131460340647,\n",
       " 5.1400243567322335,\n",
       " 7.718803937066744,\n",
       " 2.8288948450652796,\n",
       " 1.3759839799322182,\n",
       " 7.959649669451531,\n",
       " 9.694835603903659,\n",
       " 5.639897707843832,\n",
       " 7.430355156111601,\n",
       " 6.097999061620558,\n",
       " 0.41218796026017523,\n",
       " 7.314141327823047,\n",
       " 1.8834805468525095,\n",
       " 0.6212308621208729,\n",
       " 3.977556613353943,\n",
       " 6.815462819801454,\n",
       " 3.079420174094686,\n",
       " 5.784236514045657,\n",
       " 0.9057197727131061,\n",
       " 6.374838484649118,\n",
       " 0.7456525456827423,\n",
       " 0.5581432238984518,\n",
       " 6.436530515207296,\n",
       " 9.475449548975309,\n",
       " 1.770256073115709,\n",
       " 5.7465252210682145,\n",
       " 8.700250543722039,\n",
       " 4.29598979954798,\n",
       " 0.36433565566591275,\n",
       " 4.521567025800329,\n",
       " 9.092842674676753,\n",
       " 4.594274314339625,\n",
       " 9.0138605874348,\n",
       " 3.735036649999314,\n",
       " 7.299376630790161,\n",
       " 5.171230656110137,\n",
       " 4.403964607597883,\n",
       " 6.415813575369652,\n",
       " 6.751643366694085,\n",
       " 0.06193326270073185,\n",
       " 8.619469792218029,\n",
       " 0.696205659320851,\n",
       " 1.1198451140749455,\n",
       " 6.994667396994425,\n",
       " 7.25694385283831,\n",
       " 3.1857588375427994,\n",
       " 9.687787906805967,\n",
       " 7.255512589231252]"
      ]
     },
     "execution_count": 41,
     "metadata": {},
     "output_type": "execute_result"
    }
   ],
   "source": [
    "# Danh sach so thuc\n",
    "num = []\n",
    "for _ in range(0, 100):\n",
    "    num.append(random.uniform(0, 10))\n",
    "data = sc.parallelize(num)\n",
    "data.collect()"
   ]
  },
  {
   "cell_type": "code",
   "execution_count": 42,
   "id": "6498e4f1-ed7c-446a-90df-49c942b6e403",
   "metadata": {},
   "outputs": [
    {
     "name": "stdout",
     "output_type": "stream",
     "text": [
      "Trung binh cong cua day so: 5.069345511209454\n"
     ]
    },
    {
     "name": "stderr",
     "output_type": "stream",
     "text": [
      "                                                                                \r"
     ]
    }
   ],
   "source": [
    "# Trung binh cong\n",
    "tong = data.reduce(lambda x, y: x + y)\n",
    "soluong = data.count()\n",
    "print(f'Trung binh cong cua day so: {str(tong/soluong)}')"
   ]
  },
  {
   "cell_type": "code",
   "execution_count": 43,
   "id": "0227e5fa-65f3-4c40-811d-52f2cbfbbd11",
   "metadata": {},
   "outputs": [
    {
     "name": "stdout",
     "output_type": "stream",
     "text": [
      "Trung binh nhan cua day so: 3.671048617020066\n"
     ]
    },
    {
     "name": "stderr",
     "output_type": "stream",
     "text": [
      "                                                                                \r"
     ]
    }
   ],
   "source": [
    "# Trung binh nhan\n",
    "tich = data.reduce(lambda x, y: x * y)\n",
    "print(f'Trung binh nhan cua day so: {str(tich ** (1/soluong))}')"
   ]
  },
  {
   "cell_type": "markdown",
   "id": "d47a1577-13e5-4a1c-9566-8253d3f3c031",
   "metadata": {},
   "source": [
    "## Bai tap 2: Tinh phuong sai va do lech chuan"
   ]
  },
  {
   "cell_type": "code",
   "execution_count": 44,
   "id": "20d90444-0237-4bf7-8017-f0bc5e9e4bf5",
   "metadata": {},
   "outputs": [
    {
     "name": "stdout",
     "output_type": "stream",
     "text": [
      "Phuong sai cua day so: 8.279127139149708\n",
      "Do lech chuan cua day so: 4.139563569574854\n"
     ]
    }
   ],
   "source": [
    "# Phuong sai\n",
    "tbc = tong / soluong\n",
    "phuongsai= data.map(lambda x: (x - tbc) ** 2).sum() / soluong\n",
    "print(f'Phuong sai cua day so: {phuongsai}')\n",
    "# Do lech chuan\n",
    "print(f'Do lech chuan cua day so: {(phuongsai) ** 1/2}')"
   ]
  },
  {
   "cell_type": "markdown",
   "id": "1dcc0a36-a1bf-4b0b-9696-1fffacf5ef15",
   "metadata": {},
   "source": [
    "## Bai tap 3: Tinh tong 1 day phan so doc tu tap tin"
   ]
  },
  {
   "cell_type": "code",
   "execution_count": 45,
   "id": "7fa19dcd-697f-4871-a2ad-91aaab01f80a",
   "metadata": {},
   "outputs": [
    {
     "data": {
      "text/plain": [
       "['2/3', '5/6', '7/8', '1/2', '9/10']"
      ]
     },
     "execution_count": 45,
     "metadata": {},
     "output_type": "execute_result"
    }
   ],
   "source": [
    "# Doc phan so tu file\n",
    "textPS = sc.textFile('data_phanso')\n",
    "textPS.collect()"
   ]
  },
  {
   "cell_type": "code",
   "execution_count": 46,
   "id": "7ff4d88a-1679-4bf5-9dc6-60ff042b6657",
   "metadata": {},
   "outputs": [
    {
     "name": "stderr",
     "output_type": "stream",
     "text": [
      "                                                                                \r"
     ]
    },
    {
     "data": {
      "text/plain": [
       "[(2, 3), (5, 6), (7, 8), (1, 2), (9, 10)]"
      ]
     },
     "execution_count": 46,
     "metadata": {},
     "output_type": "execute_result"
    }
   ],
   "source": [
    "# Ham tach tu so va mau so tu file\n",
    "def tachTSMS(a):\n",
    "    tmp = a.split('/')\n",
    "    return (int(tmp[0]), int(tmp[1]))\n",
    "dataPS = textPS.map(tachTSMS)\n",
    "dataPS.collect()"
   ]
  },
  {
   "cell_type": "code",
   "execution_count": 47,
   "id": "563d06f1-26e5-4b2b-b923-a9cf01370f6a",
   "metadata": {},
   "outputs": [],
   "source": [
    "# Ham tinh UCLN\n",
    "def gcd(a, b):\n",
    "    while b:\n",
    "        a, b = b, a % b\n",
    "    return a\n",
    "# Ham tinh BCNN\n",
    "def lcm(a, b):\n",
    "    return a * b / gcd(a, b)"
   ]
  },
  {
   "cell_type": "code",
   "execution_count": 48,
   "id": "95e06ddd-22b6-4c9b-8d26-f874477d33d4",
   "metadata": {},
   "outputs": [
    {
     "name": "stdout",
     "output_type": "stream",
     "text": [
      "Tong cac phan so: 151.0 / 40.0\n"
     ]
    },
    {
     "name": "stderr",
     "output_type": "stream",
     "text": [
      "                                                                                \r"
     ]
    }
   ],
   "source": [
    "# Tim BCNN cua cac mau so\n",
    "bcnn = dataPS.collect()[0][1]\n",
    "for i in dataPS.collect():\n",
    "    bcnn = lcm(bcnn, i[1])\n",
    "# Tinh tong phan so\n",
    "sumPS = 0\n",
    "for i in dataPS.collect():\n",
    "    sumPS += i[0] * (bcnn // i[1])\n",
    "# Rut gon phan so\n",
    "tmpGCD = gcd(sumPS, bcnn)\n",
    "sumPS //= tmpGCD\n",
    "bcnn //= tmpGCD\n",
    "print(f'Tong cac phan so: {sumPS} / {bcnn}')"
   ]
  },
  {
   "cell_type": "code",
   "execution_count": null,
   "id": "4a68129b-0077-4c80-891d-7707c3b1e7b3",
   "metadata": {},
   "outputs": [],
   "source": []
  }
 ],
 "metadata": {
  "kernelspec": {
   "display_name": "Python 3 (ipykernel)",
   "language": "python",
   "name": "python3"
  },
  "language_info": {
   "codemirror_mode": {
    "name": "ipython",
    "version": 3
   },
   "file_extension": ".py",
   "mimetype": "text/x-python",
   "name": "python",
   "nbconvert_exporter": "python",
   "pygments_lexer": "ipython3",
   "version": "3.12.3"
  }
 },
 "nbformat": 4,
 "nbformat_minor": 5
}
